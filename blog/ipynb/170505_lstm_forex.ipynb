{
 "cells": [
  {
   "cell_type": "markdown",
   "metadata": {},
   "source": [
    "based on \n",
    "http://machinelearningmastery.com/time-series-prediction-lstm-recurrent-neural-networks-python-keras/\n",
    "\n",
    "Predict the Forex Close Price of 20170424 USD/JPY"
   ]
  },
  {
   "cell_type": "code",
   "execution_count": 210,
   "metadata": {},
   "outputs": [],
   "source": [
    "from __future__ import print_function\n",
    "import numpy as np # linear algebra\n",
    "import pandas as pd # data processing, CSV file I/O (e.g. pd.read_csv)\n",
    "from keras.layers.core import Dense, Activation, Dropout\n",
    "from keras.layers.recurrent import LSTM\n",
    "from keras.models import Sequential\n",
    "from sklearn.preprocessing import MinMaxScaler\n",
    "from sklearn.metrics import mean_squared_error\n",
    "import matplotlib.pyplot as plt\n",
    "import math"
   ]
  },
  {
   "cell_type": "code",
   "execution_count": 238,
   "metadata": {
    "collapsed": true
   },
   "outputs": [],
   "source": [
    "# parameters to be set \n",
    "look_back = 3\n",
    "epochs = 100\n",
    "batch_size = 1"
   ]
  },
  {
   "cell_type": "code",
   "execution_count": 239,
   "metadata": {
    "collapsed": true
   },
   "outputs": [],
   "source": [
    "# fix random seed for reproducibility\n",
    "np.random.seed(7)"
   ]
  },
  {
   "cell_type": "code",
   "execution_count": 260,
   "metadata": {},
   "outputs": [
    {
     "data": {
      "text/html": [
       "<div>\n",
       "<table border=\"1\" class=\"dataframe\">\n",
       "  <thead>\n",
       "    <tr style=\"text-align: right;\">\n",
       "      <th></th>\n",
       "      <th>Local time</th>\n",
       "      <th>Open</th>\n",
       "      <th>High</th>\n",
       "      <th>Low</th>\n",
       "      <th>Close</th>\n",
       "      <th>Volume</th>\n",
       "    </tr>\n",
       "  </thead>\n",
       "  <tbody>\n",
       "    <tr>\n",
       "      <th>0</th>\n",
       "      <td>24.04.2017 00:00:00.000</td>\n",
       "      <td>109.072</td>\n",
       "      <td>109.072</td>\n",
       "      <td>109.072</td>\n",
       "      <td>109.072</td>\n",
       "      <td>0.0</td>\n",
       "    </tr>\n",
       "    <tr>\n",
       "      <th>1</th>\n",
       "      <td>24.04.2017 00:10:00.000</td>\n",
       "      <td>109.072</td>\n",
       "      <td>109.072</td>\n",
       "      <td>109.072</td>\n",
       "      <td>109.072</td>\n",
       "      <td>0.0</td>\n",
       "    </tr>\n",
       "    <tr>\n",
       "      <th>2</th>\n",
       "      <td>24.04.2017 00:20:00.000</td>\n",
       "      <td>109.072</td>\n",
       "      <td>109.072</td>\n",
       "      <td>109.072</td>\n",
       "      <td>109.072</td>\n",
       "      <td>0.0</td>\n",
       "    </tr>\n",
       "    <tr>\n",
       "      <th>3</th>\n",
       "      <td>24.04.2017 00:30:00.000</td>\n",
       "      <td>109.072</td>\n",
       "      <td>109.072</td>\n",
       "      <td>109.072</td>\n",
       "      <td>109.072</td>\n",
       "      <td>0.0</td>\n",
       "    </tr>\n",
       "    <tr>\n",
       "      <th>4</th>\n",
       "      <td>24.04.2017 00:40:00.000</td>\n",
       "      <td>109.072</td>\n",
       "      <td>109.072</td>\n",
       "      <td>109.072</td>\n",
       "      <td>109.072</td>\n",
       "      <td>0.0</td>\n",
       "    </tr>\n",
       "  </tbody>\n",
       "</table>\n",
       "</div>"
      ],
      "text/plain": [
       "                Local time     Open     High      Low    Close  Volume\n",
       "0  24.04.2017 00:00:00.000  109.072  109.072  109.072  109.072     0.0\n",
       "1  24.04.2017 00:10:00.000  109.072  109.072  109.072  109.072     0.0\n",
       "2  24.04.2017 00:20:00.000  109.072  109.072  109.072  109.072     0.0\n",
       "3  24.04.2017 00:30:00.000  109.072  109.072  109.072  109.072     0.0\n",
       "4  24.04.2017 00:40:00.000  109.072  109.072  109.072  109.072     0.0"
      ]
     },
     "execution_count": 260,
     "metadata": {},
     "output_type": "execute_result"
    }
   ],
   "source": [
    "# read all prices using panda\n",
    "dataframe =  pd.read_csv('USDJPY_Candlestick_10_m_BID_24.04.2017-25.04.2017.csv',\n",
    "                              header=0)\n",
    "dataframe.head()"
   ]
  },
  {
   "cell_type": "code",
   "execution_count": 267,
   "metadata": {
    "collapsed": true
   },
   "outputs": [],
   "source": [
    "dataset = dataframe['Close']"
   ]
  },
  {
   "cell_type": "code",
   "execution_count": 268,
   "metadata": {},
   "outputs": [],
   "source": [
    "# reshape to column vector\n",
    "#close_prices = close.values.reshape(len(close), 1)\n",
    "dataset = dataset.values\n",
    "dataset = dataset.astype('float32')"
   ]
  },
  {
   "cell_type": "code",
   "execution_count": 269,
   "metadata": {
    "collapsed": true
   },
   "outputs": [],
   "source": [
    "# normalize the dataset\n",
    "scaler = MinMaxScaler(feature_range=(0, 1))\n",
    "close_prices = scaler.fit_transform(close_prices)"
   ]
  },
  {
   "cell_type": "code",
   "execution_count": 270,
   "metadata": {},
   "outputs": [
    {
     "name": "stdout",
     "output_type": "stream",
     "text": [
      "Split data into training set and test set... Number of training samples/ test samples: 192 96\n"
     ]
    }
   ],
   "source": [
    "# split data into training set and test set\n",
    "train_size = int(len(close_prices) * 0.67)\n",
    "test_size = len(close_prices) - train_size\n",
    "train, test = close_prices[0:train_size,:], close_prices[train_size:len(close_prices),:]\n",
    "\n",
    "print('Split data into training set and test set... Number of training samples/ test samples:', len(train), len(test))"
   ]
  },
  {
   "cell_type": "code",
   "execution_count": 273,
   "metadata": {},
   "outputs": [
    {
     "data": {
      "text/plain": [
       "((188, 3), (188,), (92, 3), (92,))"
      ]
     },
     "execution_count": 273,
     "metadata": {},
     "output_type": "execute_result"
    }
   ],
   "source": [
    "# convert an array of values into a time series dataset \n",
    "# in form \n",
    "#                     X                     Y\n",
    "# t-look_back+1, t-look_back+2, ..., t     t+1\n",
    "\n",
    "def create_dataset(dataset, look_back):\n",
    "\tdataX, dataY = [], []\n",
    "\tfor i in range(len(dataset)-look_back-1):\n",
    "\t\ta = dataset[i:(i+look_back), 0]\n",
    "\t\tdataX.append(a)\n",
    "\t\tdataY.append(dataset[i + look_back, 0])\n",
    "\treturn np.array(dataX), np.array(dataY)\n",
    "\n",
    "# convert Apple's stock price data into time series dataset\n",
    "trainX, trainY = create_dataset(train, look_back)\n",
    "testX, testY = create_dataset(test, look_back)\n",
    "(trainX.shape, trainY.shape, testX.shape, testY.shape)"
   ]
  },
  {
   "cell_type": "code",
   "execution_count": 254,
   "metadata": {},
   "outputs": [
    {
     "data": {
      "text/plain": [
       "((188, 3, 1), (92, 3, 1))"
      ]
     },
     "execution_count": 254,
     "metadata": {},
     "output_type": "execute_result"
    }
   ],
   "source": [
    "# reshape input of the LSTM to be format [samples, time steps, features]\n",
    "trainX = np.reshape(trainX, (trainX.shape[0], trainX.shape[1], 1))\n",
    "testX = np.reshape(testX, (testX.shape[0], testX.shape[1], 1))\n",
    "#trainX = np.reshape(trainX, (trainX.shape[0], 1, trainX.shape[1]))\n",
    "#testX = np.reshape(testX, (testX.shape[0], 1, testX.shape[1]))\n",
    "(trainX.shape, testX.shape)"
   ]
  },
  {
   "cell_type": "code",
   "execution_count": 247,
   "metadata": {},
   "outputs": [
    {
     "name": "stdout",
     "output_type": "stream",
     "text": [
      "Epoch 1/1\n",
      "2s - loss: 0.0613\n",
      "Epoch 1/1\n",
      "0s - loss: 0.0168\n",
      "Epoch 1/1\n",
      "1s - loss: 0.0126\n",
      "Epoch 1/1\n",
      "0s - loss: 0.0108\n",
      "Epoch 1/1\n",
      "0s - loss: 0.0104\n",
      "Epoch 1/1\n",
      "1s - loss: 0.0103\n",
      "Epoch 1/1\n",
      "0s - loss: 0.0103\n",
      "Epoch 1/1\n",
      "1s - loss: 0.0103\n",
      "Epoch 1/1\n",
      "0s - loss: 0.0103\n",
      "Epoch 1/1\n",
      "0s - loss: 0.0102\n",
      "Epoch 1/1\n",
      "0s - loss: 0.0101\n",
      "Epoch 1/1\n",
      "0s - loss: 0.0100\n",
      "Epoch 1/1\n",
      "0s - loss: 0.0099\n",
      "Epoch 1/1\n",
      "1s - loss: 0.0097\n",
      "Epoch 1/1\n",
      "1s - loss: 0.0095\n",
      "Epoch 1/1\n",
      "1s - loss: 0.0092\n",
      "Epoch 1/1\n",
      "1s - loss: 0.0090\n",
      "Epoch 1/1\n",
      "1s - loss: 0.0087\n",
      "Epoch 1/1\n",
      "1s - loss: 0.0084\n",
      "Epoch 1/1\n",
      "1s - loss: 0.0081\n",
      "Epoch 1/1\n",
      "0s - loss: 0.0079\n",
      "Epoch 1/1\n",
      "0s - loss: 0.0076\n",
      "Epoch 1/1\n",
      "0s - loss: 0.0074\n",
      "Epoch 1/1\n",
      "0s - loss: 0.0072\n",
      "Epoch 1/1\n",
      "0s - loss: 0.0070\n",
      "Epoch 1/1\n",
      "0s - loss: 0.0068\n",
      "Epoch 1/1\n",
      "0s - loss: 0.0066\n",
      "Epoch 1/1\n",
      "0s - loss: 0.0065\n",
      "Epoch 1/1\n",
      "0s - loss: 0.0063\n",
      "Epoch 1/1\n",
      "0s - loss: 0.0061\n",
      "Epoch 1/1\n",
      "0s - loss: 0.0060\n",
      "Epoch 1/1\n",
      "0s - loss: 0.0059\n",
      "Epoch 1/1\n",
      "0s - loss: 0.0057\n",
      "Epoch 1/1\n",
      "1s - loss: 0.0056\n",
      "Epoch 1/1\n",
      "1s - loss: 0.0055\n",
      "Epoch 1/1\n",
      "1s - loss: 0.0054\n",
      "Epoch 1/1\n",
      "0s - loss: 0.0053\n",
      "Epoch 1/1\n",
      "0s - loss: 0.0051\n",
      "Epoch 1/1\n",
      "1s - loss: 0.0050\n",
      "Epoch 1/1\n",
      "1s - loss: 0.0049\n",
      "Epoch 1/1\n",
      "0s - loss: 0.0048\n",
      "Epoch 1/1\n",
      "0s - loss: 0.0047\n",
      "Epoch 1/1\n",
      "0s - loss: 0.0047\n",
      "Epoch 1/1\n",
      "1s - loss: 0.0046\n",
      "Epoch 1/1\n",
      "0s - loss: 0.0045\n",
      "Epoch 1/1\n",
      "0s - loss: 0.0044\n",
      "Epoch 1/1\n",
      "0s - loss: 0.0043\n",
      "Epoch 1/1\n",
      "1s - loss: 0.0042\n",
      "Epoch 1/1\n",
      "0s - loss: 0.0041\n",
      "Epoch 1/1\n",
      "1s - loss: 0.0041\n",
      "Epoch 1/1\n",
      "1s - loss: 0.0040\n",
      "Epoch 1/1\n",
      "1s - loss: 0.0039\n",
      "Epoch 1/1\n",
      "1s - loss: 0.0039\n",
      "Epoch 1/1\n",
      "1s - loss: 0.0038\n",
      "Epoch 1/1\n",
      "1s - loss: 0.0037\n",
      "Epoch 1/1\n",
      "1s - loss: 0.0037\n",
      "Epoch 1/1\n",
      "0s - loss: 0.0036\n",
      "Epoch 1/1\n",
      "1s - loss: 0.0036\n",
      "Epoch 1/1\n",
      "1s - loss: 0.0035\n",
      "Epoch 1/1\n",
      "1s - loss: 0.0035\n",
      "Epoch 1/1\n",
      "1s - loss: 0.0034\n",
      "Epoch 1/1\n",
      "1s - loss: 0.0034\n",
      "Epoch 1/1\n",
      "1s - loss: 0.0034\n",
      "Epoch 1/1\n",
      "1s - loss: 0.0033\n",
      "Epoch 1/1\n",
      "1s - loss: 0.0033\n",
      "Epoch 1/1\n",
      "1s - loss: 0.0033\n",
      "Epoch 1/1\n",
      "1s - loss: 0.0033\n",
      "Epoch 1/1\n",
      "1s - loss: 0.0032\n",
      "Epoch 1/1\n",
      "1s - loss: 0.0032\n",
      "Epoch 1/1\n",
      "1s - loss: 0.0032\n",
      "Epoch 1/1\n",
      "1s - loss: 0.0032\n",
      "Epoch 1/1\n",
      "0s - loss: 0.0032\n",
      "Epoch 1/1\n",
      "1s - loss: 0.0032\n",
      "Epoch 1/1\n",
      "1s - loss: 0.0032\n",
      "Epoch 1/1\n",
      "1s - loss: 0.0032\n",
      "Epoch 1/1\n",
      "0s - loss: 0.0032\n",
      "Epoch 1/1\n",
      "0s - loss: 0.0032\n",
      "Epoch 1/1\n",
      "0s - loss: 0.0032\n",
      "Epoch 1/1\n",
      "1s - loss: 0.0031\n",
      "Epoch 1/1\n",
      "1s - loss: 0.0031\n",
      "Epoch 1/1\n",
      "1s - loss: 0.0031\n",
      "Epoch 1/1\n",
      "1s - loss: 0.0031\n",
      "Epoch 1/1\n",
      "1s - loss: 0.0031\n",
      "Epoch 1/1\n",
      "1s - loss: 0.0031\n",
      "Epoch 1/1\n",
      "1s - loss: 0.0031\n",
      "Epoch 1/1\n",
      "1s - loss: 0.0031\n",
      "Epoch 1/1\n",
      "1s - loss: 0.0031\n",
      "Epoch 1/1\n",
      "1s - loss: 0.0031\n",
      "Epoch 1/1\n",
      "0s - loss: 0.0031\n",
      "Epoch 1/1\n",
      "1s - loss: 0.0031\n",
      "Epoch 1/1\n",
      "1s - loss: 0.0031\n",
      "Epoch 1/1\n",
      "0s - loss: 0.0031\n",
      "Epoch 1/1\n",
      "1s - loss: 0.0031\n",
      "Epoch 1/1\n",
      "1s - loss: 0.0031\n",
      "Epoch 1/1\n",
      "1s - loss: 0.0031\n",
      "Epoch 1/1\n",
      "0s - loss: 0.0031\n",
      "Epoch 1/1\n",
      "0s - loss: 0.0031\n",
      "Epoch 1/1\n",
      "0s - loss: 0.0031\n",
      "Epoch 1/1\n",
      "0s - loss: 0.0031\n",
      "Epoch 1/1\n",
      "0s - loss: 0.0031\n"
     ]
    }
   ],
   "source": [
    "# create and fit the LSTM network\n",
    "model = Sequential()\n",
    "#model.add(LSTM(4, input_shape=(1, look_back)))\n",
    "model.add(LSTM(4, batch_input_shape=(batch_size, look_back, 1), stateful=True, \n",
    "               return_sequences=True))\n",
    "model.add(LSTM(4, batch_input_shape=(batch_size, look_back, 1), stateful=True))\n",
    "model.add(Dense(1))\n",
    "model.compile(loss='mean_squared_error', optimizer='adam')\n",
    "#model.fit(trainX, trainY, epochs=epochs, batch_size=batch_size)\n",
    "for i in range(100):\n",
    "\tmodel.fit(trainX, trainY, epochs=1, batch_size=batch_size, verbose=2, shuffle=False)\n",
    "\tmodel.reset_states()"
   ]
  },
  {
   "cell_type": "code",
   "execution_count": 248,
   "metadata": {
    "collapsed": true
   },
   "outputs": [],
   "source": [
    "# make predictions\n",
    "#trainPredict = model.predict(trainX)\n",
    "#testPredict = model.predict(testX)\n",
    "trainPredict = model.predict(trainX, batch_size=batch_size)\n",
    "model.reset_states()\n",
    "testPredict = model.predict(testX, batch_size=batch_size)"
   ]
  },
  {
   "cell_type": "code",
   "execution_count": 249,
   "metadata": {},
   "outputs": [],
   "source": [
    "# invert predictions and targets to unscaled\n",
    "trainPredict = scaler.inverse_transform(trainPredict)\n",
    "trainY = scaler.inverse_transform([trainY])\n",
    "testPredict = scaler.inverse_transform(testPredict)\n",
    "testY = scaler.inverse_transform([testY])"
   ]
  },
  {
   "cell_type": "code",
   "execution_count": 250,
   "metadata": {},
   "outputs": [
    {
     "name": "stdout",
     "output_type": "stream",
     "text": [
      "Train Score: 0.12058 RMSE\n",
      "Test Score: 0.18446 RMSE\n"
     ]
    }
   ],
   "source": [
    "# calculate root mean squared error\n",
    "trainScore = math.sqrt(mean_squared_error(trainY[0], trainPredict[:,0]))\n",
    "print('Train Score: %.5f RMSE' % (trainScore))\n",
    "testScore = math.sqrt(mean_squared_error(testY[0], testPredict[:,0]))\n",
    "print('Test Score: %.5f RMSE' % (testScore))"
   ]
  },
  {
   "cell_type": "code",
   "execution_count": 251,
   "metadata": {
    "collapsed": true
   },
   "outputs": [],
   "source": [
    "# shift predictions of training data for plotting\n",
    "trainPredictPlot = np.empty_like(close_prices)\n",
    "trainPredictPlot[:, :] = np.nan\n",
    "trainPredictPlot[look_back:len(trainPredict)+look_back, :] = trainPredict\n",
    "\n",
    "# shift predictions of test data for plotting\n",
    "testPredictPlot = np.empty_like(close_prices)\n",
    "testPredictPlot[:, :] = np.nan\n",
    "testPredictPlot[len(trainPredict)+(look_back*2)+1:len(close_prices)-1, :] = testPredict"
   ]
  },
  {
   "cell_type": "code",
   "execution_count": 252,
   "metadata": {},
   "outputs": [
    {
     "data": {
      "image/png": "[encoded data removed]",
      "text/plain": [
       "<matplotlib.figure.Figure at 0x7fe27600ceb8>"
      ]
     },
     "metadata": {},
     "output_type": "display_data"
    }
   ],
   "source": [
    "# plot baseline and predictions\n",
    "plt.plot(scaler.inverse_transform(close_prices))\n",
    "plt.plot(trainPredictPlot)\n",
    "plt.plot(testPredictPlot)\n",
    "plt.show()"
   ]
  },
  {
   "cell_type": "code",
   "execution_count": null,
   "metadata": {
    "collapsed": true
   },
   "outputs": [],
   "source": []
  },
  {
   "cell_type": "code",
   "execution_count": null,
   "metadata": {
    "collapsed": true
   },
   "outputs": [],
   "source": []
  }
 ],
 "metadata": {
  "kernelspec": {
   "display_name": "Python 3",
   "language": "python",
   "name": "python3"
  },
  "language_info": {
   "codemirror_mode": {
    "name": "ipython",
    "version": 3
   },
   "file_extension": ".py",
   "mimetype": "text/x-python",
   "name": "python",
   "nbconvert_exporter": "python",
   "pygments_lexer": "ipython3",
   "version": "3.6.1"
  }
 },
 "nbformat": 4,
 "nbformat_minor": 1
}
