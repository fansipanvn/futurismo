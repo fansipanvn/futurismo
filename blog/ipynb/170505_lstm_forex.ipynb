{
 "cells": [
  {
   "cell_type": "markdown",
   "metadata": {},
   "source": [
    "RNN(LSTM)入門2日目。依然として、全然わかりません。このあたりが自分のスキルの限界なのかもしれない。\n",
    "\n",
    "Udacity DLNDで株の値動きの予測をする動画が紹介された。\n",
    "\n",
    "[![IMAGE ALT TEXT HERE](http://img.youtube.com/vi/ftMq5ps503w/0.jpg)](http://www.youtube.com/watch?v=ftMq5ps503w)\n",
    "\n",
    "* [llSourcell/How-to-Predict-Stock-Prices-Easily-Demo: How to Predict Stock Prices Easily - Intro to Deep Learning #7 by Siraj Raval on Youtube](https://github.com/llSourcell/How-to-Predict-Stock-Prices-Easily-Demo)\n",
    "\n",
    "[FXのシステムトレードを以前やっていた](http://futurismo.biz/archives/4392)ので、\n",
    "DLで学んだことが生かせればいいなと思い、株を為替に置き換えて、LSTMで為替の値動きの予測をしてみた。\n",
    "\n",
    "この記事は以下の記事をベースに書いている。\n",
    "\n",
    "* [Time Series Prediction with LSTM Recurrent Neural Networks in Python with Keras - Machine Learning Mastery](http://machinelearningmastery.com/time-series-prediction-lstm-recurrent-neural-networks-python-keras/)\n",
    "\n",
    "また、以下のkaggleコンペのkernelsも大いに参考にした。\n",
    "\n",
    "* [New York Stock Exchange | Kaggle](https://www.kaggle.com/dgawlik/nyse)"
   ]
  },
  {
   "cell_type": "markdown",
   "metadata": {},
   "source": [
    "## 準備\n",
    "まずは、為替データを準備する。以下のサイトから、2017/4/24 の USD/JPY の 10分刻みのデータをダウンロードする。\n",
    "\n",
    "* [Historical Data Feed :: Dukascopy Bank SA | Swiss Forex Bank | ECN Broker | Managed accounts | Swiss FX trading platform](https://www.dukascopy.com/swiss/english/marketwatch/historical/)\n",
    "\n",
    "githubにも使用したデータをアップロードした。\n",
    "\n",
    "* [futurismo/USDJPY_Candlestick_10_m_BID_24.04.2017-25.04.2017.csv](https://github.com/tsu-nera/futurismo/blob/main/blog/ipynb/USDJPY_Candlestick_10_m_BID_24.04.2017-25.04.2017.csv)\n",
    "\n",
    "### 環境\n",
    "* TensorFlow 1.1.0\n",
    "* Keras 2.0.2"
   ]
  },
  {
   "cell_type": "markdown",
   "metadata": {},
   "source": [
    "## LSTM Network for Regression\n",
    "チュートリアルにしたがって順にコードを書いていく。"
   ]
  },
  {
   "cell_type": "code",
   "execution_count": 1,
   "metadata": {},
   "outputs": [
    {
     "name": "stderr",
     "output_type": "stream",
     "text": [
      "Using TensorFlow backend.\n"
     ]
    }
   ],
   "source": [
    "from __future__ import print_function\n",
    "import numpy as np # linear algebra\n",
    "import pandas as pd # data processing, CSV file I/O (e.g. pd.read_csv)\n",
    "from keras.layers.core import Dense, Activation, Dropout\n",
    "from keras.layers.recurrent import LSTM\n",
    "from keras.models import Sequential\n",
    "from sklearn.preprocessing import MinMaxScaler\n",
    "from sklearn.metrics import mean_squared_error\n",
    "import matplotlib.pyplot as plt\n",
    "import math"
   ]
  },
  {
   "cell_type": "code",
   "execution_count": 2,
   "metadata": {
    "collapsed": true
   },
   "outputs": [],
   "source": [
    "# parameters to be set \n",
    "look_back = 1\n",
    "epochs = 30\n",
    "batch_size = 1"
   ]
  },
  {
   "cell_type": "code",
   "execution_count": 3,
   "metadata": {
    "collapsed": true
   },
   "outputs": [],
   "source": [
    "# fix random seed for reproducibility\n",
    "np.random.seed(7)"
   ]
  },
  {
   "cell_type": "markdown",
   "metadata": {},
   "source": [
    "### PrePare Data"
   ]
  },
  {
   "cell_type": "code",
   "execution_count": 4,
   "metadata": {},
   "outputs": [
    {
     "data": {
      "text/html": [
       "<div>\n",
       "<table border=\"1\" class=\"dataframe\">\n",
       "  <thead>\n",
       "    <tr style=\"text-align: right;\">\n",
       "      <th></th>\n",
       "      <th>Local time</th>\n",
       "      <th>Open</th>\n",
       "      <th>High</th>\n",
       "      <th>Low</th>\n",
       "      <th>Close</th>\n",
       "      <th>Volume</th>\n",
       "    </tr>\n",
       "  </thead>\n",
       "  <tbody>\n",
       "    <tr>\n",
       "      <th>0</th>\n",
       "      <td>24.04.2017 00:00:00.000</td>\n",
       "      <td>109.072</td>\n",
       "      <td>109.072</td>\n",
       "      <td>109.072</td>\n",
       "      <td>109.072</td>\n",
       "      <td>0.0</td>\n",
       "    </tr>\n",
       "    <tr>\n",
       "      <th>1</th>\n",
       "      <td>24.04.2017 00:10:00.000</td>\n",
       "      <td>109.072</td>\n",
       "      <td>109.072</td>\n",
       "      <td>109.072</td>\n",
       "      <td>109.072</td>\n",
       "      <td>0.0</td>\n",
       "    </tr>\n",
       "    <tr>\n",
       "      <th>2</th>\n",
       "      <td>24.04.2017 00:20:00.000</td>\n",
       "      <td>109.072</td>\n",
       "      <td>109.072</td>\n",
       "      <td>109.072</td>\n",
       "      <td>109.072</td>\n",
       "      <td>0.0</td>\n",
       "    </tr>\n",
       "    <tr>\n",
       "      <th>3</th>\n",
       "      <td>24.04.2017 00:30:00.000</td>\n",
       "      <td>109.072</td>\n",
       "      <td>109.072</td>\n",
       "      <td>109.072</td>\n",
       "      <td>109.072</td>\n",
       "      <td>0.0</td>\n",
       "    </tr>\n",
       "    <tr>\n",
       "      <th>4</th>\n",
       "      <td>24.04.2017 00:40:00.000</td>\n",
       "      <td>109.072</td>\n",
       "      <td>109.072</td>\n",
       "      <td>109.072</td>\n",
       "      <td>109.072</td>\n",
       "      <td>0.0</td>\n",
       "    </tr>\n",
       "  </tbody>\n",
       "</table>\n",
       "</div>"
      ],
      "text/plain": [
       "                Local time     Open     High      Low    Close  Volume\n",
       "0  24.04.2017 00:00:00.000  109.072  109.072  109.072  109.072     0.0\n",
       "1  24.04.2017 00:10:00.000  109.072  109.072  109.072  109.072     0.0\n",
       "2  24.04.2017 00:20:00.000  109.072  109.072  109.072  109.072     0.0\n",
       "3  24.04.2017 00:30:00.000  109.072  109.072  109.072  109.072     0.0\n",
       "4  24.04.2017 00:40:00.000  109.072  109.072  109.072  109.072     0.0"
      ]
     },
     "execution_count": 4,
     "metadata": {},
     "output_type": "execute_result"
    }
   ],
   "source": [
    "# read all prices using panda\n",
    "dataframe =  pd.read_csv('USDJPY_Candlestick_10_m_BID_24.04.2017-25.04.2017.csv',\n",
    "                         header=0)\n",
    "dataframe.head()"
   ]
  },
  {
   "cell_type": "code",
   "execution_count": 5,
   "metadata": {
    "collapsed": true
   },
   "outputs": [],
   "source": [
    "dataset = dataframe['Close']"
   ]
  },
  {
   "cell_type": "code",
   "execution_count": 6,
   "metadata": {},
   "outputs": [],
   "source": [
    "# reshape to column vector\n",
    "#close_prices = close.values.reshape(len(close), 1)\n",
    "dataset = dataset.values\n",
    "dataset = dataset.astype('float32')\n",
    "close_prices = dataset.reshape((-1,1))"
   ]
  },
  {
   "cell_type": "markdown",
   "metadata": {},
   "source": [
    "ここで、データを0~1の間に正規化する。scikit-learnにMinMaxScalerという便利な関数があって、fit_transformとすると、正規化できる。戻すときは、inverse_transformをコールする。"
   ]
  },
  {
   "cell_type": "code",
   "execution_count": 7,
   "metadata": {},
   "outputs": [],
   "source": [
    "# normalize the dataset\n",
    "scaler = MinMaxScaler(feature_range=(0, 1))\n",
    "close_prices = scaler.fit_transform(close_prices)"
   ]
  },
  {
   "cell_type": "markdown",
   "metadata": {},
   "source": [
    "訓練用データを 2/3, テスト用データを 1/3に分ける。"
   ]
  },
  {
   "cell_type": "code",
   "execution_count": 8,
   "metadata": {},
   "outputs": [
    {
     "name": "stdout",
     "output_type": "stream",
     "text": [
      "Split data into training set and test set... Number of training samples/ test samples: 192 96\n"
     ]
    }
   ],
   "source": [
    "# split data into training set and test set\n",
    "train_size = int(len(close_prices) * 0.67)\n",
    "test_size = len(close_prices) - train_size\n",
    "train, test = close_prices[0:train_size,:], close_prices[train_size:len(close_prices),:]\n",
    "\n",
    "print('Split data into training set and test set... Number of training samples/ test samples:', len(train), len(test))"
   ]
  },
  {
   "cell_type": "markdown",
   "metadata": {},
   "source": [
    "create_dataset()で訓練用のラベルを生成する。現在のデータから一つ先(look_back=1)のデータ、つまり10分後の値動きを予想する。\n",
    "\n",
    "ちなみにこの関数は便利で、look_backを2にすると、２つ前のデータ、つまり現在と10分前のデータから10分後のデータを予測することができる。look_backパラメータを調整することで、過去のデータから10分後のデータを予測できる。これを元の記事では、Window Methodと書いてある。"
   ]
  },
  {
   "cell_type": "code",
   "execution_count": 9,
   "metadata": {},
   "outputs": [
    {
     "data": {
      "text/plain": [
       "((190, 1), (190,), (94, 1), (94,))"
      ]
     },
     "execution_count": 9,
     "metadata": {},
     "output_type": "execute_result"
    }
   ],
   "source": [
    "# convert an array of values into a time series dataset \n",
    "# in form \n",
    "#                     X                     Y\n",
    "# t-look_back+1, t-look_back+2, ..., t     t+1\n",
    "\n",
    "def create_dataset(dataset, look_back):\n",
    "\tdataX, dataY = [], []\n",
    "\tfor i in range(len(dataset)-look_back-1):\n",
    "\t\ta = dataset[i:(i+look_back), 0]\n",
    "\t\tdataX.append(a)\n",
    "\t\tdataY.append(dataset[i + look_back, 0])\n",
    "\treturn np.array(dataX), np.array(dataY)\n",
    "\n",
    "# convert Apple's stock price data into time series dataset\n",
    "trainX, trainY = create_dataset(train, look_back)\n",
    "testX, testY = create_dataset(test, look_back)\n",
    "(trainX.shape, trainY.shape, testX.shape, testY.shape)"
   ]
  },
  {
   "cell_type": "code",
   "execution_count": 10,
   "metadata": {},
   "outputs": [
    {
     "data": {
      "text/plain": [
       "((190, 1, 1), (94, 1, 1))"
      ]
     },
     "execution_count": 10,
     "metadata": {},
     "output_type": "execute_result"
    }
   ],
   "source": [
    "# reshape input of the LSTM to be format [samples, time steps, features]\n",
    "trainX = np.reshape(trainX, (trainX.shape[0], 1, trainX.shape[1]))\n",
    "testX = np.reshape(testX, (testX.shape[0], 1, testX.shape[1]))\n",
    "(trainX.shape, testX.shape)"
   ]
  },
  {
   "cell_type": "markdown",
   "metadata": {},
   "source": [
    "### Build Model & Training\n",
    "Kerasを利用してLSTMネットワークのモデルを作り、トレーニングを実施する。\n"
   ]
  },
  {
   "cell_type": "code",
   "execution_count": 11,
   "metadata": {},
   "outputs": [
    {
     "name": "stdout",
     "output_type": "stream",
     "text": [
      "Epoch 1/30\n",
      "1s - loss: 0.1224\n",
      "Epoch 2/30\n",
      "0s - loss: 0.0332\n",
      "Epoch 3/30\n",
      "0s - loss: 0.0204\n",
      "Epoch 4/30\n",
      "0s - loss: 0.0160\n",
      "Epoch 5/30\n",
      "0s - loss: 0.0117\n",
      "Epoch 6/30\n",
      "0s - loss: 0.0082\n",
      "Epoch 7/30\n",
      "0s - loss: 0.0056\n",
      "Epoch 8/30\n",
      "0s - loss: 0.0041\n",
      "Epoch 9/30\n",
      "0s - loss: 0.0034\n",
      "Epoch 10/30\n",
      "0s - loss: 0.0031\n",
      "Epoch 11/30\n",
      "0s - loss: 0.0030\n",
      "Epoch 12/30\n",
      "0s - loss: 0.0030\n",
      "Epoch 13/30\n",
      "0s - loss: 0.0029\n",
      "Epoch 14/30\n",
      "0s - loss: 0.0029\n",
      "Epoch 15/30\n",
      "0s - loss: 0.0030\n",
      "Epoch 16/30\n",
      "0s - loss: 0.0029\n",
      "Epoch 17/30\n",
      "0s - loss: 0.0029\n",
      "Epoch 18/30\n",
      "0s - loss: 0.0029\n",
      "Epoch 19/30\n",
      "0s - loss: 0.0029\n",
      "Epoch 20/30\n",
      "0s - loss: 0.0029\n",
      "Epoch 21/30\n",
      "0s - loss: 0.0030\n",
      "Epoch 22/30\n",
      "0s - loss: 0.0030\n",
      "Epoch 23/30\n",
      "0s - loss: 0.0029\n",
      "Epoch 24/30\n",
      "0s - loss: 0.0029\n",
      "Epoch 25/30\n",
      "0s - loss: 0.0030\n",
      "Epoch 26/30\n",
      "0s - loss: 0.0030\n",
      "Epoch 27/30\n",
      "0s - loss: 0.0030\n",
      "Epoch 28/30\n",
      "0s - loss: 0.0029\n",
      "Epoch 29/30\n",
      "0s - loss: 0.0029\n",
      "Epoch 30/30\n",
      "0s - loss: 0.0030\n"
     ]
    },
    {
     "data": {
      "text/plain": [
       "<keras.callbacks.History at 0x7f29913c3b00>"
      ]
     },
     "execution_count": 11,
     "metadata": {},
     "output_type": "execute_result"
    }
   ],
   "source": [
    "# create and fit the LSTM network\n",
    "model = Sequential()\n",
    "model.add(LSTM(4, input_shape=(1, look_back)))\n",
    "model.add(Dense(1))\n",
    "model.compile(loss='mean_squared_error', optimizer='adam')\n",
    "model.fit(trainX, trainY, epochs=epochs, batch_size=batch_size,verbose=2)"
   ]
  },
  {
   "cell_type": "markdown",
   "metadata": {},
   "source": [
    "### Predict"
   ]
  },
  {
   "cell_type": "code",
   "execution_count": 12,
   "metadata": {
    "collapsed": true
   },
   "outputs": [],
   "source": [
    "# make predictions\n",
    "trainPredict = model.predict(trainX)\n",
    "testPredict = model.predict(testX)"
   ]
  },
  {
   "cell_type": "code",
   "execution_count": 13,
   "metadata": {
    "collapsed": true
   },
   "outputs": [],
   "source": [
    "# invert predictions and targets to unscaled\n",
    "trainPredict = scaler.inverse_transform(trainPredict)\n",
    "trainY = scaler.inverse_transform([trainY])\n",
    "testPredict = scaler.inverse_transform(testPredict)\n",
    "testY = scaler.inverse_transform([testY])"
   ]
  },
  {
   "cell_type": "code",
   "execution_count": 14,
   "metadata": {},
   "outputs": [
    {
     "name": "stdout",
     "output_type": "stream",
     "text": [
      "Train Score: 0.09638 RMSE\n",
      "Test Score: 0.06509 RMSE\n"
     ]
    }
   ],
   "source": [
    "# calculate root mean squared error\n",
    "trainScore = math.sqrt(mean_squared_error(trainY[0], trainPredict[:,0]))\n",
    "print('Train Score: %.5f RMSE' % (trainScore))\n",
    "testScore = math.sqrt(mean_squared_error(testY[0], testPredict[:,0]))\n",
    "print('Test Score: %.5f RMSE' % (testScore))"
   ]
  },
  {
   "cell_type": "code",
   "execution_count": 15,
   "metadata": {
    "collapsed": true
   },
   "outputs": [],
   "source": [
    "# shift predictions of training data for plotting\n",
    "trainPredictPlot = np.empty_like(close_prices)\n",
    "trainPredictPlot[:, :] = np.nan\n",
    "trainPredictPlot[look_back:len(trainPredict)+look_back, :] = trainPredict\n",
    "\n",
    "# shift predictions of test data for plotting\n",
    "testPredictPlot = np.empty_like(close_prices)\n",
    "testPredictPlot[:, :] = np.nan\n",
    "testPredictPlot[len(trainPredict)+(look_back*2)+1:len(close_prices)-1, :] = testPredict"
   ]
  },
  {
   "cell_type": "code",
   "execution_count": 16,
   "metadata": {},
   "outputs": [
    {
     "data": {
      "image/png": "[encoded data removed]",
      "text/plain": [
       "<matplotlib.figure.Figure at 0x7f29a784f550>"
      ]
     },
     "metadata": {},
     "output_type": "display_data"
    }
   ],
   "source": [
    "# plot baseline and predictions\n",
    "plt.plot(scaler.inverse_transform(close_prices))\n",
    "plt.plot(trainPredictPlot)\n",
    "plt.plot(testPredictPlot)\n",
    "plt.show()"
   ]
  },
  {
   "cell_type": "markdown",
   "metadata": {
    "collapsed": true
   },
   "source": [
    "予測結果は上の図。あまりにフィットしすぎて、なんかウソっぽいけれども、一応これが結果。\n",
    "\n",
    "ちなみに、元の記事だとこの先もあるが、stepや state, stacked LSTMs が読んでもよくわからなかった。もう少し時間が必要。\n",
    "\n",
    "* How to create an LSTM for a regression and a window formulation of the time series problem.\n",
    "* How to create an LSTM with a time step formulation of the time series problem.\n",
    "* How to create an LSTM with state and stacked LSTMs with state to learn long sequences.\n",
    "\n",
    "元記事を元に試してみたけれども、修正を加えるたびに精度が悪くなっていくのだった。"
   ]
  },
  {
   "cell_type": "markdown",
   "metadata": {},
   "source": [
    "## おわりに\n",
    "LSTMを FXのストラテジに応用できるか考えてみたのだけれども、よいストラテジが思いつかない。\n",
    "\n",
    "単純に回帰ならば、LSTMを使わなくてももっと簡単な方法がある。\n",
    "\n",
    "トレーニングに時間がかかるので、リアルタイムに過去のデータを処理して未来の値を予測できるのか？\n",
    "\n",
    "とはいえ、面白い話題なので、もう少し調べてみる。"
   ]
  }
 ],
 "metadata": {
  "kernelspec": {
   "display_name": "Python [conda env:oanda]",
   "language": "python",
   "name": "conda-env-oanda-py"
  },
  "language_info": {
   "codemirror_mode": {
    "name": "ipython",
    "version": 3
   },
   "file_extension": ".py",
   "mimetype": "text/x-python",
   "name": "python",
   "nbconvert_exporter": "python",
   "pygments_lexer": "ipython3",
   "version": "3.6.1"
  },
  "toc": {
   "colors": {
    "hover_highlight": "#DAA520",
    "running_highlight": "#FF0000",
    "selected_highlight": "#FFD700"
   },
   "moveMenuLeft": true,
   "nav_menu": {
    "height": "135px",
    "width": "254px"
   },
   "navigate_menu": true,
   "number_sections": false,
   "sideBar": true,
   "threshold": 4,
   "toc_cell": false,
   "toc_section_display": "block",
   "toc_window_display": false,
   "widenNotebook": false
  }
 },
 "nbformat": 4,
 "nbformat_minor": 1
}
